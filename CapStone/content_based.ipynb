{
 "cells": [
  {
   "cell_type": "markdown",
   "id": "specified-greene",
   "metadata": {},
   "source": [
    "# Trendyol Bootcamp Capstone Project - Buğra Taksuk\n",
    "- Hybrid recommender system: Hybrid recommender system is a special type of recommender system that combines both content and collaborative filtering method. Combining collaborative filtering and content-based filtering could be more effective in some cases. Hybrid approaches can be implemented in several ways: by making content-based and collaborative-based predictions separately and then combining them; by adding content-based capabilities to a collaborative-based approach (and vice versa). Several studies empirically compare the performance of the hybrid with pure collaborative and content-based methods and demonstrate that hybrid methods can provide more accurate recommendations than pure approaches. These methods can also be used to overcome some of the common problems in recommender systems such as cold start and the sparsity problem."
   ]
  },
  {
   "cell_type": "code",
   "execution_count": 1,
   "id": "blond-norfolk",
   "metadata": {},
   "outputs": [],
   "source": [
    "import numpy as np\n",
    "import pandas as pd\n",
    "from datetime import datetime"
   ]
  },
  {
   "cell_type": "code",
   "execution_count": 2,
   "id": "imported-captain",
   "metadata": {},
   "outputs": [],
   "source": [
    "\n",
    "items = pd.read_csv('articles.csv',dtype={'article_id': str})\n",
    "customers = pd.read_csv('customers.csv')\n",
    "transactions = pd.read_csv('transactions.csv',dtype={'article_id': str}, parse_dates=['t_dat'])\n"
   ]
  },
  {
   "cell_type": "markdown",
   "id": "irish-frontier",
   "metadata": {},
   "source": [
    "# User Clustering "
   ]
  },
  {
   "cell_type": "code",
   "execution_count": 3,
   "id": "parliamentary-worth",
   "metadata": {},
   "outputs": [],
   "source": [
    "def make_cluster(transactions):\n",
    "    import random\n",
    "    k = 5\n",
    "    customer_count = transactions.groupby('customer_id', as_index=False)[['price']].count().sort_index()\n",
    "    not_cold_users = customer_count[customer_count.price > k].index\n",
    "    customer_last_purchase = transactions[~transactions.customer_id.isin(not_cold_users)].groupby('customer_id', as_index=False)[['t_dat']].last()\n",
    "    cold_inactive_users = customer_last_purchase[customer_last_purchase.t_dat < \"2020-06-01\"].index\n",
    "    cold_active_users = customer_last_purchase[customer_last_purchase.t_dat > \"2020-06-01\"].index\n",
    "    customer_last_purchase[customer_last_purchase.t_dat < \"2020-06-01\"]\n",
    "    \n",
    "    return cold_inactive_users, cold_active_users , not_cold_users"
   ]
  },
  {
   "cell_type": "markdown",
   "id": "toxic-entertainment",
   "metadata": {},
   "source": [
    "# Creating Features and R matrix"
   ]
  },
  {
   "cell_type": "code",
   "execution_count": 4,
   "id": "matched-strap",
   "metadata": {},
   "outputs": [],
   "source": [
    "def create_features(customers, transactions, items):\n",
    "    from scipy.sparse import csr_matrix\n",
    "    from scipy.sparse import coo_matrix\n",
    "\n",
    "    # find the count of which user has bought which item\n",
    "    \n",
    "\n",
    "    \n",
    "    transactions = transactions[transactions.customer_id.isin(customers.customer_id)]\n",
    "    \n",
    "    transactions['count'] = 1\n",
    "    item_features = transactions.groupby(['customer_id', 'article_id'])['count'].sum().reset_index()\n",
    "\n",
    "\n",
    "\n",
    "    # add sales_chaneel_id, price and t_dat to the transactions_grouped dataframe from transactions dataframe\n",
    "    item_features = item_features.merge(transactions, on=['customer_id', 'article_id'], how='left')\n",
    "\n",
    "    #make t_dat to datetime\n",
    "    item_features['t_dat'] = pd.to_datetime(item_features['t_dat'])\n",
    "\n",
    "    # find time difference last transaction date and t_dat\n",
    "    item_features['time_diff'] = item_features['t_dat'].max() - item_features['t_dat']\n",
    "    item_features['time_diff'] = item_features['time_diff'].dt.days\n",
    "    # add  colour_group_code  ,index_code, index_group_no, section_no, garment_group_no to the transactions_grouped dataframe from items dataframe\n",
    "    item_features = item_features.merge(items[['article_id','colour_group_code','index_code','index_group_no', 'section_no', 'garment_group_no']])\n",
    "\n",
    "\n",
    "\n",
    "    cust_features = item_features.drop(columns = ['colour_group_code','index_code', 'index_group_no', 'section_no', 'garment_group_no',])\n",
    "    cust_features = cust_features.merge(customers, on = 'customer_id')\n",
    "    \n",
    "    item_features = pd.get_dummies(item_features, columns=['sales_channel_id', 'colour_group_code'\n",
    "    , 'index_code', 'index_group_no', 'section_no', 'garment_group_no' ],drop_first = True) \n",
    "    \n",
    "    cust_features = pd.get_dummies(cust_features, columns = ['club_member_status', 'fashion_news_frequency','sales_channel_id'], drop_first = True)\n",
    "    cust_features['age'].fillna(cust_features['age'].mean(), inplace = True)\n",
    "    \n",
    "    cust_features = cust_features.drop(columns = ['article_id']).drop_duplicates(subset=['customer_id'])\n",
    "    item_features = item_features.drop(columns = ['customer_id']).drop_duplicates(subset=['article_id'])\n",
    "    \n",
    "    #--------------------------------------------------\n",
    "\n",
    "    \n",
    "    ALL_USERS = cust_features['customer_id'].unique().tolist()\n",
    "    ALL_ITEMS = item_features['article_id'].unique().tolist()\n",
    "\n",
    "    user_ids = dict(list(enumerate(ALL_USERS)))\n",
    "    item_ids = dict(list(enumerate(ALL_ITEMS)))\n",
    "\n",
    "    user_map = {u: uidx for uidx, u in user_ids.items()}\n",
    "    item_map = {i: iidx for iidx, i in item_ids.items()}\n",
    "    \n",
    "\n",
    "    \n",
    "\n",
    "    transactions['user_id'] = transactions['customer_id'].map(user_map)\n",
    "    transactions['item_id'] = transactions['article_id'].map(item_map)\n",
    "    \n",
    "    \n",
    "    \n",
    "    \n",
    "    #----------------------------------------------------------\n",
    "    \n",
    "    \n",
    "\n",
    "    \n",
    "    validation_cut = '2020-09-15'\n",
    "    cust_features_train = cust_features[cust_features['t_dat'] < validation_cut]\n",
    "    cust_features_train = cust_features[cust_features['t_dat'] > '2019-09-15']\n",
    "    cust_features_test = cust_features[cust_features['t_dat'] >= validation_cut]\n",
    "    \n",
    "    validation_cut = '2020-09-15'\n",
    "    item_features_train = item_features[item_features['t_dat'] < validation_cut]\n",
    "    item_features_train = item_features[item_features['t_dat'] > '2019-09-15']\n",
    "    item_features_test = item_features[item_features['t_dat'] >= validation_cut]\n",
    "    \n",
    "    validation_cut = '2020-09-15'\n",
    "    transactions_t = transactions[transactions['t_dat'] < validation_cut]\n",
    "    transactions_t = transactions[transactions['t_dat'] > '2019-09-15']\n",
    "    transactions_v = transactions[transactions['t_dat'] >= validation_cut]\n",
    "    \n",
    "    #-------------------------------------------------------------------------\n",
    "    \n",
    "    \n",
    "    row = transactions_t['user_id'].values\n",
    "    col = transactions_t['item_id'].values\n",
    "    data = np.ones(transactions_t.shape[0])\n",
    "\n",
    "    coo_t = coo_matrix((data, (row, col)), shape=(len(ALL_USERS), len(ALL_ITEMS)))\n",
    "    \n",
    "    row = transactions_v['user_id'].values\n",
    "    col = transactions_v['item_id'].values\n",
    "    data = np.ones(transactions_v.shape[0])\n",
    "    coo_v = coo_matrix((data, (row, col)), shape=(len(ALL_USERS), len(ALL_ITEMS)))\n",
    "    \n",
    "    \n",
    "\n",
    "    cust_features_train = cust_features_train.drop_duplicates(subset=['customer_id'])\n",
    "    cust_features_test = cust_features_test.drop_duplicates(subset=['customer_id'])\n",
    "    \n",
    "    item_features_train = item_features_train.drop_duplicates(subset=['article_id'])\n",
    "    item_features_test = item_features_test.drop_duplicates(subset=['article_id'])\n",
    "    \n",
    "    \n",
    "\n",
    "    item_features_csr_train =  csr_matrix(item_features_train.drop(columns = ['count_x', 'count_y','t_dat','article_id']).values.astype(np.float))\n",
    "    item_features_csr_test =  csr_matrix(item_features_test.drop(columns = ['count_x', 'count_y','t_dat','article_id']).values.astype(np.float))\n",
    "    \n",
    "    cust_features_csr_train = csr_matrix(cust_features_train.drop(columns = ['count_x', 'count_y', 'customer_id','t_dat']).values.astype(np.float))\n",
    "    cust_features_csr_test = csr_matrix(cust_features_test.drop(columns = ['count_x', 'count_y', 'customer_id','t_dat']).values.astype(np.float))\n",
    "    \n",
    "    cust_features_csr = coo_matrix(cust_features.drop(columns = ['count_x', 'count_y', 'customer_id','t_dat']).values.astype(np.float))\n",
    "    item_features_csr =  coo_matrix(item_features.drop(columns = ['count_x', 'count_y','t_dat','article_id']).values.astype(np.float))\n",
    "    \n",
    "\n",
    "    return  item_features, cust_features, item_features_csr, cust_features_csr, coo_t, coo_v , transactions_t,transactions_v\n",
    "    "
   ]
  },
  {
   "cell_type": "markdown",
   "id": "corresponding-senator",
   "metadata": {},
   "source": [
    "# Partioning Data"
   ]
  },
  {
   "cell_type": "code",
   "execution_count": 5,
   "id": "monetary-environment",
   "metadata": {},
   "outputs": [],
   "source": [
    "def generate_dataset(rate, transactions, customers):\n",
    "    import random\n",
    "    new_not_cold_users = random.sample(not_cold_users.to_list(), round(len(not_cold_users) * rate))\n",
    "    new_cold_inactive_users = random.sample(cold_inactive_users.to_list(), round(len(cold_inactive_users) * rate))\n",
    "    new_cold_active_users = random.sample(cold_active_users.to_list(), round(len(cold_active_users) * rate))\n",
    "    \n",
    "    new_users = new_not_cold_users + new_cold_inactive_users + new_cold_active_users\n",
    "\n",
    "\n",
    "    new_customer = customers.iloc[new_users]\n",
    "    \n",
    "    return  new_customer"
   ]
  },
  {
   "cell_type": "code",
   "execution_count": 6,
   "id": "hispanic-jerusalem",
   "metadata": {},
   "outputs": [],
   "source": [
    "cold_inactive_users, cold_active_users , not_cold_users = make_cluster(transactions)"
   ]
  },
  {
   "cell_type": "code",
   "execution_count": 7,
   "id": "wrapped-sewing",
   "metadata": {},
   "outputs": [],
   "source": [
    "small_customers = generate_dataset(0.01, transactions, customers)"
   ]
  },
  {
   "cell_type": "code",
   "execution_count": 8,
   "id": "smooth-stationery",
   "metadata": {},
   "outputs": [],
   "source": [
    "import warnings\n",
    "warnings.filterwarnings(\"ignore\")\n",
    "item_features, cust_features, item_features_csr, cust_features_csr, coo_t, coo_v , trans_t,trans_v = create_features(small_customers, transactions, items)"
   ]
  },
  {
   "cell_type": "code",
   "execution_count": 9,
   "id": "future-christianity",
   "metadata": {},
   "outputs": [
    {
     "data": {
      "text/plain": [
       "(498061, 98484)"
      ]
     },
     "execution_count": 9,
     "metadata": {},
     "output_type": "execute_result"
    }
   ],
   "source": [
    "coo_t.shape"
   ]
  },
  {
   "cell_type": "code",
   "execution_count": 10,
   "id": "animal-redhead",
   "metadata": {},
   "outputs": [
    {
     "data": {
      "text/plain": [
       "(498061, 98484)"
      ]
     },
     "execution_count": 10,
     "metadata": {},
     "output_type": "execute_result"
    }
   ],
   "source": [
    "coo_v.shape"
   ]
  },
  {
   "cell_type": "code",
   "execution_count": 11,
   "id": "severe-irrigation",
   "metadata": {},
   "outputs": [
    {
     "data": {
      "text/plain": [
       "((98484, 141), (498061, 9))"
      ]
     },
     "execution_count": 11,
     "metadata": {},
     "output_type": "execute_result"
    }
   ],
   "source": [
    "item_features_csr.shape, cust_features_csr.shape"
   ]
  },
  {
   "cell_type": "markdown",
   "id": "electoral-municipality",
   "metadata": {},
   "source": [
    "# Model Creation "
   ]
  },
  {
   "cell_type": "markdown",
   "id": "pacific-domestic",
   "metadata": {},
   "source": [
    " LightFM is a hybrid matrix factorisation model representing users and items as linear combinations of their content features’ latent factors. The model outperforms both collaborative and content-based models in cold-start or sparse interaction data scenarios (using both user and item metadata), and performs at least as well as a pure collaborative matrix factorisation model where interaction data is abundant.\n",
    "\n",
    "In LightFM, like in a collaborative filtering model, users and items are represented as latent vectors (embeddings). However, just as in a CB model, these are entirely defined by functions (in this case, linear combinations) of embeddings of the content features that describe each product or user.\n",
    "\n",
    "For example, if the movie ‘Wizard of Oz’ is described by the following features: ‘musical fantasy’, ‘Judy Garland’, and ‘Wizard of Oz’, then its latent representation will be given by the sum of these features’ latent representations. In doing so, LightFM unites the advantages of contentbased and collaborative recommenders. [6]\n",
    "\n",
    "How LightFM works: The LightFM paper describes beautifully how lightFM works. To put it simply in words, lightFM model learns embeddings (latent representations in a high-dimensional space) for users and items in a way that encodes user preferences over items. When multiplied together, these representations produce scores for every item for a given user; items scored highly are more likely to be interesting to the user [5].\n",
    "\n",
    "The user and item representations are expressed in terms of representations of their features: an embedding is estimated for every feature, and these features are then summed together to arrive at representations for users and items [5].\n",
    "\n",
    "The latent representation of user u is given by the sum of its features’ latent vectors:  qu=∑j∈fu .\n",
    "\n",
    "And same for the items:  pi=∑j∈fi \n",
    "The model’s prediction for user u and item i is then given by the dot product of user and item representations, adjusted by user and item feature biases:  rui^=f(qu⋅pi+bu+bi) \n",
    "This is just a general idea of the model. Please read the lightFM model paper more in depth knowledge.\n",
    "\n",
    "Why LightFM:\n",
    "\n",
    "In both cold-start and low density scenarios, LightFM performs at least as well as pure content-based models, substantially outperforming them when either (1) collaborative information is available in the training set or (2) user features are included in the model. This is really useful for our CareerVillage recommendation system beacause we will have a lot of new questions and students that makes a very good environment for cold start problem.\n",
    "\n",
    "When collaborative data is abundant (warm-start, dense user-item matrix), LightFM performs at least as well as the MF model.\n",
    "\n",
    "Embeddings produced by LightFM encode important semantic information about features, and can be used for related recommendation tasks such as tag recommendations. This is also very important for our problem. Because there are useful for finding similar tags so that model can recommend questions that has similiar tags to professionals tags."
   ]
  },
  {
   "cell_type": "code",
   "execution_count": 12,
   "id": "protective-elevation",
   "metadata": {},
   "outputs": [],
   "source": [
    "from lightfm.cross_validation import random_train_test_split\n",
    "from lightfm.evaluation import auc_score, precision_at_k, recall_at_k\n",
    "from lightfm import LightFM\n",
    "\n",
    "model = LightFM(loss='warp',\n",
    "                random_state=2022,\n",
    "                learning_rate=0.90,\n",
    "                user_alpha=0.0005,\n",
    "                item_alpha=0.0005)\n",
    "model = model.fit(coo_t,\n",
    "                  user_features=cust_features_csr,\n",
    "                  item_features=item_features_csr,\n",
    "                  epochs=10,\n",
    "                  num_threads=16, verbose=False)"
   ]
  },
  {
   "cell_type": "markdown",
   "id": "spare-parker",
   "metadata": {},
   "source": [
    "- WARP: Weighted Approximate-Rank Pairwise 2 loss. Maximises the rank of positive examples by repeatedly sampling negative examples until rank violating one is found. Useful when only positive interactions are present and optimising the top of the recommendation list (precision@k) is desired.\n",
    "- Measure the precision at k metric for a model: the fraction of known positives in the first k positions of the ranked list of results. A perfect score is 1.0."
   ]
  },
  {
   "cell_type": "code",
   "execution_count": 20,
   "id": "aging-continent",
   "metadata": {},
   "outputs": [],
   "source": [
    "\n",
    "user_id = '0015f37f752a41a75c3be6f3f92deedc4c87d039f1758ec41f54f8c7f4729793'\n",
    "\n",
    "idx = trans_v[trans_v['customer_id'] =='0015f37f752a41a75c3be6f3f92deedc4c87d039f1758ec41f54f8c7f4729793']['user_id'].values[0]\n",
    "idx = int(idx)\n",
    "n_users, n_items = coo_v.shape\n",
    "\n",
    "scores = pd.Series(model.predict(idx,np.arange(n_items), user_features=cust_features_csr, item_features=item_features_csr))\n",
    "scores.index = item_features.article_id.values\n"
   ]
  },
  {
   "cell_type": "code",
   "execution_count": 21,
   "id": "personal-tension",
   "metadata": {},
   "outputs": [
    {
     "data": {
      "text/plain": [
       "176209023    1.738753e+19\n",
       "568601006   -5.680094e+19\n",
       "568601043   -5.158685e+20\n",
       "607642008   -3.261786e+20\n",
       "625548001    4.971098e+20\n",
       "dtype: float32"
      ]
     },
     "execution_count": 21,
     "metadata": {},
     "output_type": "execute_result"
    }
   ],
   "source": [
    "scores[:5]"
   ]
  },
  {
   "cell_type": "code",
   "execution_count": 22,
   "id": "copyrighted-thanksgiving",
   "metadata": {},
   "outputs": [
    {
     "data": {
      "text/html": [
       "<div>\n",
       "<style scoped>\n",
       "    .dataframe tbody tr th:only-of-type {\n",
       "        vertical-align: middle;\n",
       "    }\n",
       "\n",
       "    .dataframe tbody tr th {\n",
       "        vertical-align: top;\n",
       "    }\n",
       "\n",
       "    .dataframe thead th {\n",
       "        text-align: right;\n",
       "    }\n",
       "</style>\n",
       "<table border=\"1\" class=\"dataframe\">\n",
       "  <thead>\n",
       "    <tr style=\"text-align: right;\">\n",
       "      <th></th>\n",
       "      <th>article_id</th>\n",
       "      <th>product_code</th>\n",
       "      <th>prod_name</th>\n",
       "      <th>product_type_no</th>\n",
       "      <th>product_type_name</th>\n",
       "      <th>product_group_name</th>\n",
       "      <th>graphical_appearance_no</th>\n",
       "      <th>graphical_appearance_name</th>\n",
       "      <th>colour_group_code</th>\n",
       "      <th>colour_group_name</th>\n",
       "      <th>...</th>\n",
       "      <th>department_name</th>\n",
       "      <th>index_code</th>\n",
       "      <th>index_name</th>\n",
       "      <th>index_group_no</th>\n",
       "      <th>index_group_name</th>\n",
       "      <th>section_no</th>\n",
       "      <th>section_name</th>\n",
       "      <th>garment_group_no</th>\n",
       "      <th>garment_group_name</th>\n",
       "      <th>detail_desc</th>\n",
       "    </tr>\n",
       "  </thead>\n",
       "  <tbody>\n",
       "    <tr>\n",
       "      <th>99</th>\n",
       "      <td>176209023</td>\n",
       "      <td>176209</td>\n",
       "      <td>Mr Harrington w/hood</td>\n",
       "      <td>308</td>\n",
       "      <td>Hoodie</td>\n",
       "      <td>Garment Upper body</td>\n",
       "      <td>1010016</td>\n",
       "      <td>Solid</td>\n",
       "      <td>9</td>\n",
       "      <td>Black</td>\n",
       "      <td>...</td>\n",
       "      <td>Jacket Street</td>\n",
       "      <td>F</td>\n",
       "      <td>Menswear</td>\n",
       "      <td>3</td>\n",
       "      <td>Menswear</td>\n",
       "      <td>31</td>\n",
       "      <td>Mens Outerwear</td>\n",
       "      <td>1007</td>\n",
       "      <td>Outdoor</td>\n",
       "      <td>Short, padded jacket with a jersey-lined hood ...</td>\n",
       "    </tr>\n",
       "    <tr>\n",
       "      <th>16003</th>\n",
       "      <td>568601006</td>\n",
       "      <td>568601</td>\n",
       "      <td>Mariette Blazer</td>\n",
       "      <td>264</td>\n",
       "      <td>Blazer</td>\n",
       "      <td>Garment Upper body</td>\n",
       "      <td>1010016</td>\n",
       "      <td>Solid</td>\n",
       "      <td>9</td>\n",
       "      <td>Black</td>\n",
       "      <td>...</td>\n",
       "      <td>Suit</td>\n",
       "      <td>A</td>\n",
       "      <td>Ladieswear</td>\n",
       "      <td>1</td>\n",
       "      <td>Ladieswear</td>\n",
       "      <td>11</td>\n",
       "      <td>Womens Tailoring</td>\n",
       "      <td>1008</td>\n",
       "      <td>Dressed</td>\n",
       "      <td>Fitted jacket in woven fabric with notch lapel...</td>\n",
       "    </tr>\n",
       "    <tr>\n",
       "      <th>16023</th>\n",
       "      <td>568601043</td>\n",
       "      <td>568601</td>\n",
       "      <td>Mariette Blazer</td>\n",
       "      <td>264</td>\n",
       "      <td>Blazer</td>\n",
       "      <td>Garment Upper body</td>\n",
       "      <td>1010026</td>\n",
       "      <td>Other structure</td>\n",
       "      <td>93</td>\n",
       "      <td>Dark Green</td>\n",
       "      <td>...</td>\n",
       "      <td>Suit</td>\n",
       "      <td>A</td>\n",
       "      <td>Ladieswear</td>\n",
       "      <td>1</td>\n",
       "      <td>Ladieswear</td>\n",
       "      <td>11</td>\n",
       "      <td>Womens Tailoring</td>\n",
       "      <td>1008</td>\n",
       "      <td>Dressed</td>\n",
       "      <td>Fitted jacket in woven fabric with notch lapel...</td>\n",
       "    </tr>\n",
       "    <tr>\n",
       "      <th>23996</th>\n",
       "      <td>607642008</td>\n",
       "      <td>607642</td>\n",
       "      <td>The Firm (1)</td>\n",
       "      <td>259</td>\n",
       "      <td>Shirt</td>\n",
       "      <td>Garment Upper body</td>\n",
       "      <td>1010017</td>\n",
       "      <td>Stripe</td>\n",
       "      <td>9</td>\n",
       "      <td>Black</td>\n",
       "      <td>...</td>\n",
       "      <td>Blouse</td>\n",
       "      <td>A</td>\n",
       "      <td>Ladieswear</td>\n",
       "      <td>1</td>\n",
       "      <td>Ladieswear</td>\n",
       "      <td>11</td>\n",
       "      <td>Womens Tailoring</td>\n",
       "      <td>1010</td>\n",
       "      <td>Blouses</td>\n",
       "      <td>Top in a crêpe weave with a V-shaped opening a...</td>\n",
       "    </tr>\n",
       "    <tr>\n",
       "      <th>29516</th>\n",
       "      <td>625548001</td>\n",
       "      <td>625548</td>\n",
       "      <td>BB Chris puff jkt TP</td>\n",
       "      <td>262</td>\n",
       "      <td>Jacket</td>\n",
       "      <td>Garment Upper body</td>\n",
       "      <td>1010016</td>\n",
       "      <td>Solid</td>\n",
       "      <td>73</td>\n",
       "      <td>Dark Blue</td>\n",
       "      <td>...</td>\n",
       "      <td>Young Boy Outdoor</td>\n",
       "      <td>I</td>\n",
       "      <td>Children Sizes 134-170</td>\n",
       "      <td>4</td>\n",
       "      <td>Baby/Children</td>\n",
       "      <td>45</td>\n",
       "      <td>Kids Outerwear</td>\n",
       "      <td>1007</td>\n",
       "      <td>Outdoor</td>\n",
       "      <td>Padded jacket with a detachable hood, stand-up...</td>\n",
       "    </tr>\n",
       "  </tbody>\n",
       "</table>\n",
       "<p>5 rows × 25 columns</p>\n",
       "</div>"
      ],
      "text/plain": [
       "      article_id  product_code             prod_name  product_type_no  \\\n",
       "99     176209023        176209  Mr Harrington w/hood              308   \n",
       "16003  568601006        568601       Mariette Blazer              264   \n",
       "16023  568601043        568601       Mariette Blazer              264   \n",
       "23996  607642008        607642          The Firm (1)              259   \n",
       "29516  625548001        625548  BB Chris puff jkt TP              262   \n",
       "\n",
       "      product_type_name  product_group_name  graphical_appearance_no  \\\n",
       "99               Hoodie  Garment Upper body                  1010016   \n",
       "16003            Blazer  Garment Upper body                  1010016   \n",
       "16023            Blazer  Garment Upper body                  1010026   \n",
       "23996             Shirt  Garment Upper body                  1010017   \n",
       "29516            Jacket  Garment Upper body                  1010016   \n",
       "\n",
       "      graphical_appearance_name  colour_group_code colour_group_name  ...  \\\n",
       "99                        Solid                  9             Black  ...   \n",
       "16003                     Solid                  9             Black  ...   \n",
       "16023           Other structure                 93        Dark Green  ...   \n",
       "23996                    Stripe                  9             Black  ...   \n",
       "29516                     Solid                 73         Dark Blue  ...   \n",
       "\n",
       "         department_name index_code              index_name index_group_no  \\\n",
       "99         Jacket Street          F                Menswear              3   \n",
       "16003               Suit          A              Ladieswear              1   \n",
       "16023               Suit          A              Ladieswear              1   \n",
       "23996             Blouse          A              Ladieswear              1   \n",
       "29516  Young Boy Outdoor          I  Children Sizes 134-170              4   \n",
       "\n",
       "       index_group_name section_no      section_name garment_group_no  \\\n",
       "99             Menswear         31    Mens Outerwear             1007   \n",
       "16003        Ladieswear         11  Womens Tailoring             1008   \n",
       "16023        Ladieswear         11  Womens Tailoring             1008   \n",
       "23996        Ladieswear         11  Womens Tailoring             1010   \n",
       "29516     Baby/Children         45    Kids Outerwear             1007   \n",
       "\n",
       "       garment_group_name                                        detail_desc  \n",
       "99                Outdoor  Short, padded jacket with a jersey-lined hood ...  \n",
       "16003             Dressed  Fitted jacket in woven fabric with notch lapel...  \n",
       "16023             Dressed  Fitted jacket in woven fabric with notch lapel...  \n",
       "23996             Blouses  Top in a crêpe weave with a V-shaped opening a...  \n",
       "29516             Outdoor  Padded jacket with a detachable hood, stand-up...  \n",
       "\n",
       "[5 rows x 25 columns]"
      ]
     },
     "execution_count": 22,
     "metadata": {},
     "output_type": "execute_result"
    }
   ],
   "source": [
    "items[items['article_id'].isin(scores[:5].index.values)]"
   ]
  },
  {
   "cell_type": "code",
   "execution_count": null,
   "id": "confused-graduate",
   "metadata": {},
   "outputs": [],
   "source": []
  },
  {
   "cell_type": "code",
   "execution_count": null,
   "id": "earlier-brook",
   "metadata": {},
   "outputs": [],
   "source": []
  },
  {
   "cell_type": "code",
   "execution_count": null,
   "id": "controlling-remainder",
   "metadata": {},
   "outputs": [],
   "source": []
  }
 ],
 "metadata": {
  "kernelspec": {
   "display_name": "Python 3",
   "language": "python",
   "name": "python3"
  },
  "language_info": {
   "codemirror_mode": {
    "name": "ipython",
    "version": 3
   },
   "file_extension": ".py",
   "mimetype": "text/x-python",
   "name": "python",
   "nbconvert_exporter": "python",
   "pygments_lexer": "ipython3",
   "version": "3.7.3"
  }
 },
 "nbformat": 4,
 "nbformat_minor": 5
}
